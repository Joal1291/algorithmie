{
 "cells": [
  {
   "cell_type": "code",
   "execution_count": 9,
   "metadata": {},
   "outputs": [
    {
     "name": "stdout",
     "output_type": "stream",
     "text": [
      "715\n"
     ]
    }
   ],
   "source": [
    "import math\n",
    "a,b,c=[float(input())for _ in range(3)]\n",
    "print(int(a/(1-(math.log10(b)-math.log10(c)))))"
   ]
  },
  {
   "cell_type": "code",
   "execution_count": null,
   "metadata": {},
   "outputs": [],
   "source": [
    "#ajouter du temps a une heure connue\n",
    "\n",
    "from datetime import datetime, timedelta\n",
    "\n",
    "# Créez un objet datetime pour une heure donnée, par exemple 23h45\n",
    "heure_initiale = datetime.strptime('23:45', '%H:%M')\n",
    "\n",
    "# Ajoutez 7 heures et 45 minutes\n",
    "heure_finale = heure_initiale + timedelta(hours=7, minutes=45)\n",
    "\n",
    "# Affichez le résultat\n",
    "print(\"Heure après ajout de 7 heures et 45 minutes:\", heure_finale.strftime('%H:%M'))\n"
   ]
  },
  {
   "cell_type": "markdown",
   "metadata": {},
   "source": []
  }
 ],
 "metadata": {
  "kernelspec": {
   "display_name": "Python 3",
   "language": "python",
   "name": "python3"
  },
  "language_info": {
   "codemirror_mode": {
    "name": "ipython",
    "version": 3
   },
   "file_extension": ".py",
   "mimetype": "text/x-python",
   "name": "python",
   "nbconvert_exporter": "python",
   "pygments_lexer": "ipython3",
   "version": "3.12.3"
  }
 },
 "nbformat": 4,
 "nbformat_minor": 2
}
